{
 "cells": [
  {
   "cell_type": "markdown",
   "id": "functioning-collect",
   "metadata": {},
   "source": [
    "# PA005: High Values Customer Identification (Insiders)"
   ]
  },
  {
   "cell_type": "markdown",
   "id": "beginning-yacht",
   "metadata": {},
   "source": [
    "## 0.0 Planejamento da Solução  (IOT)"
   ]
  },
  {
   "cell_type": "markdown",
   "id": "arranged-colombia",
   "metadata": {
    "heading_collapsed": "true"
   },
   "source": [
    "### Input - Entrada"
   ]
  },
  {
   "cell_type": "markdown",
   "id": "intelligent-washer",
   "metadata": {},
   "source": [
    "1. Problema de Negócio\n",
    "  - Selecionar os clientes mais valiosos para integrar um programa de Fidelização\n",
    "  \n",
    "\n",
    "2. Conjunto de dados\n",
    "  - Vendas de um  e-commerce online, durante o período de uma ano"
   ]
  },
  {
   "cell_type": "markdown",
   "id": "colonial-excellence",
   "metadata": {
    "heading_collapsed": "true"
   },
   "source": [
    "### Output - Saída"
   ]
  },
  {
   "cell_type": "markdown",
   "id": "equipped-schedule",
   "metadata": {},
   "source": [
    "1. A indicação das pessoas que farão parte do programa Insiders.\n",
    "  - Lista cliente_id | is_insider|\n",
    "  \n",
    "    \n",
    "2. Relátorio com as respostas das perguntas de negócio.\n",
    "\n",
    "  - Quem são as pessoas elegíveis para participar do programa de Insiders ?\n",
    "  -  Quantos clientes farão parte do grupo?\n",
    "  -  Quais as principais características desses clientes ?\n",
    "  -  Qual a porcentagem de contribuição do faturamento, vinda do Insiders ?\n",
    "  -  Qual a expectativa de faturamento desse grupo para os próximos meses ?\n",
    "  -  Quais as condições para uma pessoa ser elegível ao Insiders ?\n",
    "  -  Quais as condições para uma pessoa ser removida do Insiders ?\n",
    "  -  Qual a garantia que o programa Insiders é melhor que o restante da base ?\n",
    "  -  Quais ações o time de marketing pode realizar para aumentar o faturamento?"
   ]
  },
  {
   "cell_type": "markdown",
   "id": "christian-rehabilitation",
   "metadata": {
    "heading_collapsed": "true"
   },
   "source": [
    "### Task - Tarefas"
   ]
  },
  {
   "cell_type": "markdown",
   "id": "dominant-memphis",
   "metadata": {},
   "source": [
    "1. Quem são as pessoas elegíveis para participar do programa de Insiders ?\n",
    "   - O que é ser elegível? O que são cliente de maior \"valor\"?\n",
    "   - Faturamento:\n",
    "     - Alto Ticket Médio.\n",
    "     - Alto LTV.\n",
    "     - Baixo  Recência.\n",
    "     - Alto basket size.\n",
    "     - Baixa probabilidade de Churn.\n",
    "     \n",
    "   - Custo:\n",
    "     - Baixo taxa de devolução.\n",
    "   - Experiência de compra:\n",
    "     - Média alta das avaliação\n",
    "\n",
    "2. Quantos clientes farão parte do grupo?\n",
    "   - Número total de clientes\n",
    "   - % do grupo Insidiers\n",
    "   \n",
    "3. Quais as principais características desses clientes ?\n",
    "   - Escrever caracteristicas do cliente:\n",
    "     - Idade\n",
    "     - Localização\n",
    "     \n",
    "   - Escrever caracteristicas de consumo.\n",
    "     - Atributos da clusterização\n",
    "   \n",
    "   \n",
    "4. Qual a porcentagem de contribuição do faturamento, vinda do Insiders ?\n",
    "    - Faturamento total ao ano\n",
    "    - Faturamento do grupo Insiders\n",
    "\n",
    "5. Qual a expectativa de faturamento desse grupo para os próximos meses ?\n",
    "    - LTV do grupo Insiders\n",
    "    - Análise de Cohort\n",
    "    \n",
    "6. Quais as condições para uma pessoa ser elegível ao Insiders ?\n",
    "    - A pessoa precisa ser similar com uma pessoa do grupo.\n",
    "    - Definir a periodicidade (1 mes, 3 meses)\n",
    "\n",
    "7. Quais as condições para uma pessoa ser removida do Insiders ?\n",
    "    - A pessoa precisa ser não-similar com uma pessoa do grupo.\n",
    "    - Definir a periodicidade (1 mes, 3 meses)\n",
    "\n",
    "8. Qual a garantia que o programa Insiders é melhor que o restante da base ?\n",
    "   - Teste A/B\n",
    "   - Teste A/B Bayesiano\n",
    "   - Teste de hipótese\n",
    "\n",
    "9. Quais ações o time de marketing pode realizar para aumentar o faturamento?\n",
    "   - Desconto\n",
    "   - Frete\n",
    "   - Preferência de compra"
   ]
  },
  {
   "cell_type": "markdown",
   "id": "spread-theology",
   "metadata": {},
   "source": [
    "## 0.1 Benchmark de Soluções"
   ]
  },
  {
   "cell_type": "markdown",
   "id": "bridal-puzzle",
   "metadata": {
    "heading_collapsed": "true"
   },
   "source": [
    "### Desk Research"
   ]
  },
  {
   "cell_type": "markdown",
   "id": "numerous-harvest",
   "metadata": {},
   "source": [
    "- RFM Model - Recency, Frequency and Monetary por id\n",
    " - Passo 01:\n",
    "\n",
    " Ordenar os clientes por Recency\n",
    "\n",
    " - Passo2:\n",
    "\n",
    " a. Dividir a base de clientes de acordo com as notas\n",
    "\n",
    "    i. notas de 1-5.\n",
    "\n",
    "    ii. 5 grupos de 20% cada.\n",
    "\n",
    " - Passo3:\n",
    "\n",
    " Repetir os Passos1 e 2 para Frequency e Monetary\n",
    "\n",
    " - Passo4:\n",
    "\n",
    " RFM Score - Média das notas.\n",
    " Grafico Frequency Score vs Recency Score - Mapeamento dos segmentos de clientes"
   ]
  }
 ],
 "metadata": {
  "kernelspec": {
   "display_name": "Python 3",
   "language": "python",
   "name": "python3"
  },
  "language_info": {
   "codemirror_mode": {
    "name": "ipython",
    "version": 3
   },
   "file_extension": ".py",
   "mimetype": "text/x-python",
   "name": "python",
   "nbconvert_exporter": "python",
   "pygments_lexer": "ipython3",
   "version": "3.8.5"
  }
 },
 "nbformat": 4,
 "nbformat_minor": 5
}
