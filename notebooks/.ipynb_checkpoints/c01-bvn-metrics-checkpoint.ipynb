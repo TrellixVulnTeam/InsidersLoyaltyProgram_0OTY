{
 "cells": [
  {
   "cell_type": "markdown",
   "id": "cheap-space",
   "metadata": {},
   "source": [
    "# PA005: High Values Customer Identification (Insiders)"
   ]
  },
  {
   "cell_type": "markdown",
   "id": "initial-syntax",
   "metadata": {
    "ExecuteTime": {
     "end_time": "2021-03-31T00:38:29.041404Z",
     "start_time": "2021-03-31T00:38:29.037973Z"
    }
   },
   "source": [
    "# Imports"
   ]
  },
  {
   "cell_type": "code",
   "execution_count": 1,
   "id": "representative-jimmy",
   "metadata": {
    "ExecuteTime": {
     "end_time": "2021-03-31T00:38:30.008696Z",
     "start_time": "2021-03-31T00:38:30.006586Z"
    }
   },
   "outputs": [],
   "source": [
    "import numpy as np\n",
    "import pandas as pd\n",
    "import seaborn as sns\n",
    "import matplotlib.pyplot as plt"
   ]
  },
  {
   "cell_type": "markdown",
   "id": "together-reflection",
   "metadata": {},
   "source": [
    "# Helper Functions"
   ]
  },
  {
   "cell_type": "code",
   "execution_count": null,
   "id": "spoken-documentary",
   "metadata": {},
   "outputs": [],
   "source": []
  },
  {
   "cell_type": "markdown",
   "id": "intended-surrey",
   "metadata": {},
   "source": [
    "## 0.0 Planejamento da Solução  (IOT)"
   ]
  },
  {
   "cell_type": "markdown",
   "id": "psychological-thesaurus",
   "metadata": {
    "heading_collapsed": "true"
   },
   "source": [
    "### Input - Entrada"
   ]
  },
  {
   "cell_type": "markdown",
   "id": "corrected-effectiveness",
   "metadata": {},
   "source": [
    "1. Problema de Negócio\n",
    "  - Selecionar os clientes mais valiosos para integrar um programa de Fidelização\n",
    "  \n",
    "\n",
    "2. Conjunto de dados\n",
    "  - Vendas de um  e-commerce online, durante o período de uma ano"
   ]
  },
  {
   "cell_type": "markdown",
   "id": "curious-providence",
   "metadata": {
    "heading_collapsed": "true"
   },
   "source": [
    "### Output - Saída"
   ]
  },
  {
   "cell_type": "markdown",
   "id": "prostate-carnival",
   "metadata": {},
   "source": [
    "1. A indicação das pessoas que farão parte do programa Insiders.\n",
    "  - Lista cliente_id | is_insider|\n",
    "  \n",
    "    \n",
    "2. Relátorio com as respostas das perguntas de negócio.\n",
    "\n",
    "  - Quem são as pessoas elegíveis para participar do programa de Insiders ?\n",
    "  -  Quantos clientes farão parte do grupo?\n",
    "  -  Quais as principais características desses clientes ?\n",
    "  -  Qual a porcentagem de contribuição do faturamento, vinda do Insiders ?\n",
    "  -  Qual a expectativa de faturamento desse grupo para os próximos meses ?\n",
    "  -  Quais as condições para uma pessoa ser elegível ao Insiders ?\n",
    "  -  Quais as condições para uma pessoa ser removida do Insiders ?\n",
    "  -  Qual a garantia que o programa Insiders é melhor que o restante da base ?\n",
    "  -  Quais ações o time de marketing pode realizar para aumentar o faturamento?"
   ]
  },
  {
   "cell_type": "markdown",
   "id": "wrapped-cologne",
   "metadata": {
    "heading_collapsed": "true"
   },
   "source": [
    "### Task - Tarefas"
   ]
  },
  {
   "cell_type": "markdown",
   "id": "attached-weather",
   "metadata": {},
   "source": [
    "1. Quem são as pessoas elegíveis para participar do programa de Insiders ?\n",
    "   - O que é ser elegível? O que são cliente de maior \"valor\"?\n",
    "   - Faturamento:\n",
    "     - Alto Ticket Médio.\n",
    "     - Alto LTV.\n",
    "     - Baixo  Recência.\n",
    "     - Alto basket size.\n",
    "     - Baixa probabilidade de Churn.\n",
    "     \n",
    "   - Custo:\n",
    "     - Baixo taxa de devolução.\n",
    "   - Experiência de compra:\n",
    "     - Média alta das avaliação\n",
    "\n",
    "2. Quantos clientes farão parte do grupo?\n",
    "   - Número total de clientes\n",
    "   - % do grupo Insidiers\n",
    "   \n",
    "3. Quais as principais características desses clientes ?\n",
    "   - Escrever caracteristicas do cliente:\n",
    "     - Idade\n",
    "     - Localização\n",
    "     \n",
    "   - Escrever caracteristicas de consumo.\n",
    "     - Atributos da clusterização\n",
    "   \n",
    "   \n",
    "4. Qual a porcentagem de contribuição do faturamento, vinda do Insiders ?\n",
    "    - Faturamento total ao ano\n",
    "    - Faturamento do grupo Insiders\n",
    "\n",
    "5. Qual a expectativa de faturamento desse grupo para os próximos meses ?\n",
    "    - LTV do grupo Insiders\n",
    "    - Análise de Cohort\n",
    "    \n",
    "6. Quais as condições para uma pessoa ser elegível ao Insiders ?\n",
    "    - A pessoa precisa ser similar com uma pessoa do grupo.\n",
    "    - Definir a periodicidade (1 mes, 3 meses)\n",
    "\n",
    "7. Quais as condições para uma pessoa ser removida do Insiders ?\n",
    "    - A pessoa precisa ser não-similar com uma pessoa do grupo.\n",
    "    - Definir a periodicidade (1 mes, 3 meses)\n",
    "\n",
    "8. Qual a garantia que o programa Insiders é melhor que o restante da base ?\n",
    "   - Teste A/B\n",
    "   - Teste A/B Bayesiano\n",
    "   - Teste de hipótese\n",
    "\n",
    "9. Quais ações o time de marketing pode realizar para aumentar o faturamento?\n",
    "   - Desconto\n",
    "   - Frete\n",
    "   - Preferência de compra"
   ]
  },
  {
   "cell_type": "markdown",
   "id": "ignored-option",
   "metadata": {},
   "source": [
    "## 0.1 Benchmark de Soluções"
   ]
  },
  {
   "cell_type": "markdown",
   "id": "genuine-peace",
   "metadata": {},
   "source": [
    "### Desk Research"
   ]
  },
  {
   "cell_type": "markdown",
   "id": "returning-retro",
   "metadata": {},
   "source": [
    "- RFM Model - Recency, Frequency and Monetary por id\n",
    " - Passo 01:\n",
    "\n",
    " Ordenar os clientes por Recency\n",
    "\n",
    " - Passo2:\n",
    "\n",
    " a. Dividir a base de clientes de acordo com as notas\n",
    "\n",
    "    i. notas de 1-5.\n",
    "\n",
    "    ii. 5 grupos de 20% cada.\n",
    "\n",
    " - Passo3:\n",
    "\n",
    " Repetir os Passos1 e 2 para Frequency e Monetary\n",
    "\n",
    " - Passo4:\n",
    "\n",
    " RFM Score - Média das notas.\n",
    " Grafico Frequency Score vs Recency Score - Mapeamento dos segmentos de clientes"
   ]
  },
  {
   "cell_type": "markdown",
   "id": "blank-specification",
   "metadata": {},
   "source": [
    "# 0.2 Load Dataset"
   ]
  },
  {
   "cell_type": "code",
   "execution_count": 5,
   "id": "proprietary-computer",
   "metadata": {},
   "outputs": [],
   "source": [
    "df_raw = pd.read_csv('../data/raw/Ecommerce.csv')\n",
    "df_raw.drop('Unnamed: 8', inplace=True, axis=1)"
   ]
  },
  {
   "cell_type": "code",
   "execution_count": 6,
   "id": "continued-supervisor",
   "metadata": {},
   "outputs": [
    {
     "data": {
      "text/html": [
       "<div>\n",
       "<style scoped>\n",
       "    .dataframe tbody tr th:only-of-type {\n",
       "        vertical-align: middle;\n",
       "    }\n",
       "\n",
       "    .dataframe tbody tr th {\n",
       "        vertical-align: top;\n",
       "    }\n",
       "\n",
       "    .dataframe thead th {\n",
       "        text-align: right;\n",
       "    }\n",
       "</style>\n",
       "<table border=\"1\" class=\"dataframe\">\n",
       "  <thead>\n",
       "    <tr style=\"text-align: right;\">\n",
       "      <th></th>\n",
       "      <th>InvoiceNo</th>\n",
       "      <th>StockCode</th>\n",
       "      <th>Description</th>\n",
       "      <th>Quantity</th>\n",
       "      <th>InvoiceDate</th>\n",
       "      <th>UnitPrice</th>\n",
       "      <th>CustomerID</th>\n",
       "      <th>Country</th>\n",
       "    </tr>\n",
       "  </thead>\n",
       "  <tbody>\n",
       "    <tr>\n",
       "      <th>0</th>\n",
       "      <td>536365</td>\n",
       "      <td>85123A</td>\n",
       "      <td>WHITE HANGING HEART T-LIGHT HOLDER</td>\n",
       "      <td>6</td>\n",
       "      <td>29-Nov-16</td>\n",
       "      <td>2.55</td>\n",
       "      <td>17850.0</td>\n",
       "      <td>United Kingdom</td>\n",
       "    </tr>\n",
       "    <tr>\n",
       "      <th>1</th>\n",
       "      <td>536365</td>\n",
       "      <td>71053</td>\n",
       "      <td>WHITE METAL LANTERN</td>\n",
       "      <td>6</td>\n",
       "      <td>29-Nov-16</td>\n",
       "      <td>3.39</td>\n",
       "      <td>17850.0</td>\n",
       "      <td>United Kingdom</td>\n",
       "    </tr>\n",
       "    <tr>\n",
       "      <th>2</th>\n",
       "      <td>536365</td>\n",
       "      <td>84406B</td>\n",
       "      <td>CREAM CUPID HEARTS COAT HANGER</td>\n",
       "      <td>8</td>\n",
       "      <td>29-Nov-16</td>\n",
       "      <td>2.75</td>\n",
       "      <td>17850.0</td>\n",
       "      <td>United Kingdom</td>\n",
       "    </tr>\n",
       "    <tr>\n",
       "      <th>3</th>\n",
       "      <td>536365</td>\n",
       "      <td>84029G</td>\n",
       "      <td>KNITTED UNION FLAG HOT WATER BOTTLE</td>\n",
       "      <td>6</td>\n",
       "      <td>29-Nov-16</td>\n",
       "      <td>3.39</td>\n",
       "      <td>17850.0</td>\n",
       "      <td>United Kingdom</td>\n",
       "    </tr>\n",
       "    <tr>\n",
       "      <th>4</th>\n",
       "      <td>536365</td>\n",
       "      <td>84029E</td>\n",
       "      <td>RED WOOLLY HOTTIE WHITE HEART.</td>\n",
       "      <td>6</td>\n",
       "      <td>29-Nov-16</td>\n",
       "      <td>3.39</td>\n",
       "      <td>17850.0</td>\n",
       "      <td>United Kingdom</td>\n",
       "    </tr>\n",
       "  </tbody>\n",
       "</table>\n",
       "</div>"
      ],
      "text/plain": [
       "  InvoiceNo StockCode                          Description  Quantity  \\\n",
       "0    536365    85123A   WHITE HANGING HEART T-LIGHT HOLDER         6   \n",
       "1    536365     71053                  WHITE METAL LANTERN         6   \n",
       "2    536365    84406B       CREAM CUPID HEARTS COAT HANGER         8   \n",
       "3    536365    84029G  KNITTED UNION FLAG HOT WATER BOTTLE         6   \n",
       "4    536365    84029E       RED WOOLLY HOTTIE WHITE HEART.         6   \n",
       "\n",
       "  InvoiceDate  UnitPrice  CustomerID         Country  \n",
       "0   29-Nov-16       2.55     17850.0  United Kingdom  \n",
       "1   29-Nov-16       3.39     17850.0  United Kingdom  \n",
       "2   29-Nov-16       2.75     17850.0  United Kingdom  \n",
       "3   29-Nov-16       3.39     17850.0  United Kingdom  \n",
       "4   29-Nov-16       3.39     17850.0  United Kingdom  "
      ]
     },
     "execution_count": 6,
     "metadata": {},
     "output_type": "execute_result"
    }
   ],
   "source": [
    "df_raw.head()"
   ]
  },
  {
   "cell_type": "markdown",
   "id": "inside-filter",
   "metadata": {},
   "source": [
    "# 1.0 Descrição dos Dados"
   ]
  },
  {
   "cell_type": "markdown",
   "id": "fifth-literacy",
   "metadata": {},
   "source": [
    "## 1.1 Rename Columns"
   ]
  },
  {
   "cell_type": "code",
   "execution_count": 8,
   "id": "human-patent",
   "metadata": {},
   "outputs": [
    {
     "data": {
      "text/plain": [
       "Index(['InvoiceNo', 'StockCode', 'Description', 'Quantity', 'InvoiceDate',\n",
       "       'UnitPrice', 'CustomerID', 'Country'],\n",
       "      dtype='object')"
      ]
     },
     "execution_count": 8,
     "metadata": {},
     "output_type": "execute_result"
    }
   ],
   "source": [
    "df_raw.columns"
   ]
  },
  {
   "cell_type": "code",
   "execution_count": 9,
   "id": "marine-investment",
   "metadata": {},
   "outputs": [],
   "source": [
    "cols_new = ['invoice_no', 'stock_code', 'descriiption', 'quantity', 'invoice_date', 'unit_price', 'customer_id', 'country']\n",
    "df_raw.columns = cols_new"
   ]
  },
  {
   "cell_type": "code",
   "execution_count": 10,
   "id": "earned-finger",
   "metadata": {},
   "outputs": [
    {
     "data": {
      "text/html": [
       "<div>\n",
       "<style scoped>\n",
       "    .dataframe tbody tr th:only-of-type {\n",
       "        vertical-align: middle;\n",
       "    }\n",
       "\n",
       "    .dataframe tbody tr th {\n",
       "        vertical-align: top;\n",
       "    }\n",
       "\n",
       "    .dataframe thead th {\n",
       "        text-align: right;\n",
       "    }\n",
       "</style>\n",
       "<table border=\"1\" class=\"dataframe\">\n",
       "  <thead>\n",
       "    <tr style=\"text-align: right;\">\n",
       "      <th></th>\n",
       "      <th>invoice_no</th>\n",
       "      <th>stock_code</th>\n",
       "      <th>descriiption</th>\n",
       "      <th>quantity</th>\n",
       "      <th>invoice_date</th>\n",
       "      <th>unit_price</th>\n",
       "      <th>customer_id</th>\n",
       "      <th>country</th>\n",
       "    </tr>\n",
       "  </thead>\n",
       "  <tbody>\n",
       "    <tr>\n",
       "      <th>316516</th>\n",
       "      <td>564754</td>\n",
       "      <td>85131D</td>\n",
       "      <td>BEADED CRYSTAL HEART PINK ON STICK</td>\n",
       "      <td>25</td>\n",
       "      <td>28-Aug-17</td>\n",
       "      <td>0.83</td>\n",
       "      <td>NaN</td>\n",
       "      <td>United Kingdom</td>\n",
       "    </tr>\n",
       "  </tbody>\n",
       "</table>\n",
       "</div>"
      ],
      "text/plain": [
       "       invoice_no stock_code                        descriiption  quantity  \\\n",
       "316516     564754     85131D  BEADED CRYSTAL HEART PINK ON STICK        25   \n",
       "\n",
       "       invoice_date  unit_price  customer_id         country  \n",
       "316516    28-Aug-17        0.83          NaN  United Kingdom  "
      ]
     },
     "execution_count": 10,
     "metadata": {},
     "output_type": "execute_result"
    }
   ],
   "source": [
    "df_raw.sample()"
   ]
  },
  {
   "cell_type": "markdown",
   "id": "uniform-enclosure",
   "metadata": {},
   "source": [
    "## 1.2 General Describe"
   ]
  },
  {
   "cell_type": "code",
   "execution_count": 15,
   "id": "modern-bouquet",
   "metadata": {},
   "outputs": [
    {
     "name": "stdout",
     "output_type": "stream",
     "text": [
      "CPU times: user 5min 5s, sys: 483 ms, total: 5min 6s\n",
      "Wall time: 5min 5s\n"
     ]
    },
    {
     "data": {
      "text/html": [
       "<div>\n",
       "<style scoped>\n",
       "    .dataframe tbody tr th:only-of-type {\n",
       "        vertical-align: middle;\n",
       "    }\n",
       "\n",
       "    .dataframe tbody tr th {\n",
       "        vertical-align: top;\n",
       "    }\n",
       "\n",
       "    .dataframe thead th {\n",
       "        text-align: right;\n",
       "    }\n",
       "</style>\n",
       "<table border=\"1\" class=\"dataframe\">\n",
       "  <thead>\n",
       "    <tr style=\"text-align: right;\">\n",
       "      <th></th>\n",
       "      <th>dtypes</th>\n",
       "      <th>missing</th>\n",
       "      <th>uniques</th>\n",
       "      <th>min</th>\n",
       "      <th>max</th>\n",
       "      <th>mean</th>\n",
       "      <th>median</th>\n",
       "      <th>skew</th>\n",
       "      <th>kurt</th>\n",
       "    </tr>\n",
       "  </thead>\n",
       "  <tbody>\n",
       "    <tr>\n",
       "      <th>country</th>\n",
       "      <td>object</td>\n",
       "      <td>0.000000</td>\n",
       "      <td>38</td>\n",
       "      <td>Australia</td>\n",
       "      <td>Unspecified</td>\n",
       "      <td>NaN</td>\n",
       "      <td>NaN</td>\n",
       "      <td>NaN</td>\n",
       "      <td>NaN</td>\n",
       "    </tr>\n",
       "    <tr>\n",
       "      <th>customer_id</th>\n",
       "      <td>float64</td>\n",
       "      <td>0.249267</td>\n",
       "      <td>4372</td>\n",
       "      <td>12346.0</td>\n",
       "      <td>18287.0</td>\n",
       "      <td>15287.690570</td>\n",
       "      <td>15152.00</td>\n",
       "      <td>0.029835</td>\n",
       "      <td>-1.179982</td>\n",
       "    </tr>\n",
       "    <tr>\n",
       "      <th>descriiption</th>\n",
       "      <td>object</td>\n",
       "      <td>0.002683</td>\n",
       "      <td>4223</td>\n",
       "      <td>NaN</td>\n",
       "      <td>NaN</td>\n",
       "      <td>NaN</td>\n",
       "      <td>NaN</td>\n",
       "      <td>NaN</td>\n",
       "      <td>NaN</td>\n",
       "    </tr>\n",
       "    <tr>\n",
       "      <th>invoice_date</th>\n",
       "      <td>object</td>\n",
       "      <td>0.000000</td>\n",
       "      <td>305</td>\n",
       "      <td>1-Apr-17</td>\n",
       "      <td>9-Sep-17</td>\n",
       "      <td>NaN</td>\n",
       "      <td>NaN</td>\n",
       "      <td>NaN</td>\n",
       "      <td>NaN</td>\n",
       "    </tr>\n",
       "    <tr>\n",
       "      <th>invoice_no</th>\n",
       "      <td>object</td>\n",
       "      <td>0.000000</td>\n",
       "      <td>25900</td>\n",
       "      <td>536365</td>\n",
       "      <td>C581569</td>\n",
       "      <td>NaN</td>\n",
       "      <td>NaN</td>\n",
       "      <td>NaN</td>\n",
       "      <td>NaN</td>\n",
       "    </tr>\n",
       "    <tr>\n",
       "      <th>quantity</th>\n",
       "      <td>int64</td>\n",
       "      <td>0.000000</td>\n",
       "      <td>722</td>\n",
       "      <td>-80995</td>\n",
       "      <td>80995</td>\n",
       "      <td>9.552250</td>\n",
       "      <td>3.00</td>\n",
       "      <td>-0.264076</td>\n",
       "      <td>119769.160031</td>\n",
       "    </tr>\n",
       "    <tr>\n",
       "      <th>stock_code</th>\n",
       "      <td>object</td>\n",
       "      <td>0.000000</td>\n",
       "      <td>4070</td>\n",
       "      <td>10002</td>\n",
       "      <td>m</td>\n",
       "      <td>NaN</td>\n",
       "      <td>NaN</td>\n",
       "      <td>NaN</td>\n",
       "      <td>NaN</td>\n",
       "    </tr>\n",
       "    <tr>\n",
       "      <th>unit_price</th>\n",
       "      <td>float64</td>\n",
       "      <td>0.000000</td>\n",
       "      <td>1630</td>\n",
       "      <td>-11062.06</td>\n",
       "      <td>38970.0</td>\n",
       "      <td>4.611114</td>\n",
       "      <td>2.08</td>\n",
       "      <td>186.506972</td>\n",
       "      <td>59005.719097</td>\n",
       "    </tr>\n",
       "  </tbody>\n",
       "</table>\n",
       "</div>"
      ],
      "text/plain": [
       "               dtypes   missing  uniques        min          max  \\\n",
       "country        object  0.000000       38  Australia  Unspecified   \n",
       "customer_id   float64  0.249267     4372    12346.0      18287.0   \n",
       "descriiption   object  0.002683     4223        NaN          NaN   \n",
       "invoice_date   object  0.000000      305   1-Apr-17     9-Sep-17   \n",
       "invoice_no     object  0.000000    25900     536365      C581569   \n",
       "quantity        int64  0.000000      722     -80995        80995   \n",
       "stock_code     object  0.000000     4070      10002            m   \n",
       "unit_price    float64  0.000000     1630  -11062.06      38970.0   \n",
       "\n",
       "                      mean    median        skew           kurt  \n",
       "country                NaN       NaN         NaN            NaN  \n",
       "customer_id   15287.690570  15152.00    0.029835      -1.179982  \n",
       "descriiption           NaN       NaN         NaN            NaN  \n",
       "invoice_date           NaN       NaN         NaN            NaN  \n",
       "invoice_no             NaN       NaN         NaN            NaN  \n",
       "quantity          9.552250      3.00   -0.264076  119769.160031  \n",
       "stock_code             NaN       NaN         NaN            NaN  \n",
       "unit_price        4.611114      2.08  186.506972   59005.719097  "
      ]
     },
     "execution_count": 15,
     "metadata": {},
     "output_type": "execute_result"
    }
   ],
   "source": [
    "%%time\n",
    "# General describer\n",
    "pd.DataFrame({'dtypes': df_raw.dtypes,\n",
    "              'missing': df_raw.isna().mean(),\n",
    "              'uniques': df_raw.nunique(),\n",
    "              'min': df_raw.min(),\n",
    "              'max': df_raw.max(),\n",
    "              'mean':df_raw.mean() ,\n",
    "              'median':df_raw.median() ,\n",
    "              'skew': df_raw.skew() ,\n",
    "              'kurt': df_raw.kurt()})"
   ]
  },
  {
   "cell_type": "markdown",
   "id": "saved-carroll",
   "metadata": {},
   "source": [
    "### 1.2.1 Data Dimensions"
   ]
  },
  {
   "cell_type": "code",
   "execution_count": 12,
   "id": "convinced-soccer",
   "metadata": {},
   "outputs": [
    {
     "data": {
      "text/plain": [
       "(541909, 8)"
      ]
     },
     "execution_count": 12,
     "metadata": {},
     "output_type": "execute_result"
    }
   ],
   "source": [
    "# Original data dimensions\n",
    "df_raw.shape"
   ]
  },
  {
   "cell_type": "markdown",
   "id": "electoral-pulse",
   "metadata": {},
   "source": [
    "## 1.3 Missing Values"
   ]
  },
  {
   "cell_type": "markdown",
   "id": "gentle-understanding",
   "metadata": {},
   "source": [
    "### 1.3.1 Replace NAs"
   ]
  },
  {
   "cell_type": "code",
   "execution_count": 19,
   "id": "numerous-baseline",
   "metadata": {},
   "outputs": [
    {
     "data": {
      "text/plain": [
       "invoice_no      0.0\n",
       "stock_code      0.0\n",
       "descriiption    0.0\n",
       "quantity        0.0\n",
       "invoice_date    0.0\n",
       "unit_price      0.0\n",
       "customer_id     0.0\n",
       "country         0.0\n",
       "dtype: float64"
      ]
     },
     "execution_count": 19,
     "metadata": {},
     "output_type": "execute_result"
    }
   ],
   "source": [
    "# Just Droping the NAs for now\n",
    "df_raw = df_raw.dropna(subset = ['descriiption','customer_id'])\n",
    "df_raw.isna().mean()"
   ]
  },
  {
   "cell_type": "code",
   "execution_count": 20,
   "id": "boolean-occasion",
   "metadata": {},
   "outputs": [
    {
     "data": {
      "text/plain": [
       "(406829, 8)"
      ]
     },
     "execution_count": 20,
     "metadata": {},
     "output_type": "execute_result"
    }
   ],
   "source": [
    "# New dimensions\n",
    "df_raw.shape"
   ]
  },
  {
   "cell_type": "markdown",
   "id": "turned-clause",
   "metadata": {},
   "source": [
    "## 1.4 Change dtypes"
   ]
  },
  {
   "cell_type": "code",
   "execution_count": 23,
   "id": "better-donor",
   "metadata": {},
   "outputs": [
    {
     "data": {
      "text/html": [
       "<div>\n",
       "<style scoped>\n",
       "    .dataframe tbody tr th:only-of-type {\n",
       "        vertical-align: middle;\n",
       "    }\n",
       "\n",
       "    .dataframe tbody tr th {\n",
       "        vertical-align: top;\n",
       "    }\n",
       "\n",
       "    .dataframe thead th {\n",
       "        text-align: right;\n",
       "    }\n",
       "</style>\n",
       "<table border=\"1\" class=\"dataframe\">\n",
       "  <thead>\n",
       "    <tr style=\"text-align: right;\">\n",
       "      <th></th>\n",
       "      <th>invoice_no</th>\n",
       "      <th>stock_code</th>\n",
       "      <th>descriiption</th>\n",
       "      <th>quantity</th>\n",
       "      <th>invoice_date</th>\n",
       "      <th>unit_price</th>\n",
       "      <th>customer_id</th>\n",
       "      <th>country</th>\n",
       "    </tr>\n",
       "  </thead>\n",
       "  <tbody>\n",
       "    <tr>\n",
       "      <th>0</th>\n",
       "      <td>536365</td>\n",
       "      <td>85123A</td>\n",
       "      <td>WHITE HANGING HEART T-LIGHT HOLDER</td>\n",
       "      <td>6</td>\n",
       "      <td>2016-11-29</td>\n",
       "      <td>2.55</td>\n",
       "      <td>17850</td>\n",
       "      <td>United Kingdom</td>\n",
       "    </tr>\n",
       "    <tr>\n",
       "      <th>1</th>\n",
       "      <td>536365</td>\n",
       "      <td>71053</td>\n",
       "      <td>WHITE METAL LANTERN</td>\n",
       "      <td>6</td>\n",
       "      <td>2016-11-29</td>\n",
       "      <td>3.39</td>\n",
       "      <td>17850</td>\n",
       "      <td>United Kingdom</td>\n",
       "    </tr>\n",
       "    <tr>\n",
       "      <th>2</th>\n",
       "      <td>536365</td>\n",
       "      <td>84406B</td>\n",
       "      <td>CREAM CUPID HEARTS COAT HANGER</td>\n",
       "      <td>8</td>\n",
       "      <td>2016-11-29</td>\n",
       "      <td>2.75</td>\n",
       "      <td>17850</td>\n",
       "      <td>United Kingdom</td>\n",
       "    </tr>\n",
       "    <tr>\n",
       "      <th>3</th>\n",
       "      <td>536365</td>\n",
       "      <td>84029G</td>\n",
       "      <td>KNITTED UNION FLAG HOT WATER BOTTLE</td>\n",
       "      <td>6</td>\n",
       "      <td>2016-11-29</td>\n",
       "      <td>3.39</td>\n",
       "      <td>17850</td>\n",
       "      <td>United Kingdom</td>\n",
       "    </tr>\n",
       "    <tr>\n",
       "      <th>4</th>\n",
       "      <td>536365</td>\n",
       "      <td>84029E</td>\n",
       "      <td>RED WOOLLY HOTTIE WHITE HEART.</td>\n",
       "      <td>6</td>\n",
       "      <td>2016-11-29</td>\n",
       "      <td>3.39</td>\n",
       "      <td>17850</td>\n",
       "      <td>United Kingdom</td>\n",
       "    </tr>\n",
       "  </tbody>\n",
       "</table>\n",
       "</div>"
      ],
      "text/plain": [
       "  invoice_no stock_code                         descriiption  quantity  \\\n",
       "0     536365     85123A   WHITE HANGING HEART T-LIGHT HOLDER         6   \n",
       "1     536365      71053                  WHITE METAL LANTERN         6   \n",
       "2     536365     84406B       CREAM CUPID HEARTS COAT HANGER         8   \n",
       "3     536365     84029G  KNITTED UNION FLAG HOT WATER BOTTLE         6   \n",
       "4     536365     84029E       RED WOOLLY HOTTIE WHITE HEART.         6   \n",
       "\n",
       "  invoice_date  unit_price  customer_id         country  \n",
       "0   2016-11-29        2.55        17850  United Kingdom  \n",
       "1   2016-11-29        3.39        17850  United Kingdom  \n",
       "2   2016-11-29        2.75        17850  United Kingdom  \n",
       "3   2016-11-29        3.39        17850  United Kingdom  \n",
       "4   2016-11-29        3.39        17850  United Kingdom  "
      ]
     },
     "execution_count": 23,
     "metadata": {},
     "output_type": "execute_result"
    }
   ],
   "source": [
    "# invoice_data\n",
    "df_raw['invoice_date'] = pd.to_datetime(df_raw['invoice_date'], format= '%d-%b-%y')\n",
    "\n",
    "\n",
    "#customer_id\n",
    "df_raw['customer_id'] = df_raw['customer_id'].astype(int)\n",
    "df_raw.head()"
   ]
  },
  {
   "cell_type": "code",
   "execution_count": 24,
   "id": "welcome-symbol",
   "metadata": {},
   "outputs": [
    {
     "data": {
      "text/plain": [
       "invoice_no              object\n",
       "stock_code              object\n",
       "descriiption            object\n",
       "quantity                 int64\n",
       "invoice_date    datetime64[ns]\n",
       "unit_price             float64\n",
       "customer_id              int64\n",
       "country                 object\n",
       "dtype: object"
      ]
     },
     "execution_count": 24,
     "metadata": {},
     "output_type": "execute_result"
    }
   ],
   "source": [
    "df_raw.dtypes"
   ]
  },
  {
   "cell_type": "markdown",
   "id": "ranking-vancouver",
   "metadata": {},
   "source": [
    "# 2.0 Feature Engineering"
   ]
  },
  {
   "cell_type": "code",
   "execution_count": 60,
   "id": "mental-combination",
   "metadata": {},
   "outputs": [],
   "source": [
    "df1 = df_raw.copy()"
   ]
  },
  {
   "cell_type": "markdown",
   "id": "nominated-anaheim",
   "metadata": {},
   "source": [
    "### 2.1 Feature Creation"
   ]
  },
  {
   "cell_type": "code",
   "execution_count": 61,
   "id": "julian-armor",
   "metadata": {},
   "outputs": [
    {
     "data": {
      "text/html": [
       "<div>\n",
       "<style scoped>\n",
       "    .dataframe tbody tr th:only-of-type {\n",
       "        vertical-align: middle;\n",
       "    }\n",
       "\n",
       "    .dataframe tbody tr th {\n",
       "        vertical-align: top;\n",
       "    }\n",
       "\n",
       "    .dataframe thead th {\n",
       "        text-align: right;\n",
       "    }\n",
       "</style>\n",
       "<table border=\"1\" class=\"dataframe\">\n",
       "  <thead>\n",
       "    <tr style=\"text-align: right;\">\n",
       "      <th></th>\n",
       "      <th>customer_id</th>\n",
       "    </tr>\n",
       "  </thead>\n",
       "  <tbody>\n",
       "    <tr>\n",
       "      <th>0</th>\n",
       "      <td>17850</td>\n",
       "    </tr>\n",
       "    <tr>\n",
       "      <th>1</th>\n",
       "      <td>13047</td>\n",
       "    </tr>\n",
       "    <tr>\n",
       "      <th>2</th>\n",
       "      <td>12583</td>\n",
       "    </tr>\n",
       "    <tr>\n",
       "      <th>3</th>\n",
       "      <td>13748</td>\n",
       "    </tr>\n",
       "    <tr>\n",
       "      <th>4</th>\n",
       "      <td>15100</td>\n",
       "    </tr>\n",
       "  </tbody>\n",
       "</table>\n",
       "</div>"
      ],
      "text/plain": [
       "   customer_id\n",
       "0        17850\n",
       "1        13047\n",
       "2        12583\n",
       "3        13748\n",
       "4        15100"
      ]
     },
     "execution_count": 61,
     "metadata": {},
     "output_type": "execute_result"
    }
   ],
   "source": [
    "# data reference \n",
    "df_ref = df1.drop(['invoice_no', \n",
    "                   'stock_code', \n",
    "                   'descriiption', \n",
    "                   'quantity', \n",
    "                   'invoice_date', \n",
    "                   'unit_price', \n",
    "                   'country'], axis=1).drop_duplicates(ignore_index=True)\n",
    "df_ref.head()"
   ]
  },
  {
   "cell_type": "code",
   "execution_count": 62,
   "id": "adverse-jurisdiction",
   "metadata": {},
   "outputs": [],
   "source": [
    "# Gross Revenue (Faturamento) quantity * price\n",
    "df1['gross_revenue'] = df1['quantity'] * df1['unit_price']\n",
    "\n",
    "# Monetary\n",
    "df_monetary = df1[['customer_id','gross_revenue']].groupby('customer_id').sum().reset_index()\n",
    "df_ref = df_ref.merge(df_monetary, on=\"customer_id\", how=\"left\")\n",
    "\n",
    "# Recency - Last day purchase\n",
    "df_recency = df1[['customer_id','invoice_date']].groupby('customer_id').max().reset_index()\n",
    "df_recency['recency_days'] = (df1['invoice_date'].max() - df_recency['invoice_date']).dt.days\n",
    "df_recency = df_recency[['customer_id','recency_days']]\n",
    "df_ref = df_ref.merge(df_recency, on='customer_id', how='left')\n",
    "\n",
    "# Frequency\n",
    "df_freq = df1[['customer_id','invoice_no']].drop_duplicates().groupby('customer_id').count().reset_index()\n",
    "df_ref = df_ref.merge(df_freq, on='customer_id', how='left')"
   ]
  },
  {
   "cell_type": "code",
   "execution_count": 63,
   "id": "vanilla-style",
   "metadata": {},
   "outputs": [
    {
     "data": {
      "text/plain": [
       "customer_id      0.0\n",
       "gross_revenue    0.0\n",
       "recency_days     0.0\n",
       "invoice_no       0.0\n",
       "dtype: float64"
      ]
     },
     "execution_count": 63,
     "metadata": {},
     "output_type": "execute_result"
    }
   ],
   "source": [
    "df_ref.isna().mean()"
   ]
  },
  {
   "cell_type": "markdown",
   "id": "architectural-myrtle",
   "metadata": {},
   "source": [
    "# 3.0 Filtragem de Variáveis"
   ]
  },
  {
   "cell_type": "code",
   "execution_count": 65,
   "id": "meaning-question",
   "metadata": {},
   "outputs": [],
   "source": [
    "df2 = df_ref.copy()"
   ]
  },
  {
   "cell_type": "code",
   "execution_count": null,
   "id": "indirect-maximum",
   "metadata": {},
   "outputs": [],
   "source": []
  },
  {
   "cell_type": "code",
   "execution_count": null,
   "id": "accessory-device",
   "metadata": {},
   "outputs": [],
   "source": []
  },
  {
   "cell_type": "code",
   "execution_count": null,
   "id": "exact-singer",
   "metadata": {},
   "outputs": [],
   "source": []
  },
  {
   "cell_type": "markdown",
   "id": "quick-lafayette",
   "metadata": {},
   "source": [
    "# 4.0 EDA "
   ]
  },
  {
   "cell_type": "code",
   "execution_count": 66,
   "id": "individual-appointment",
   "metadata": {},
   "outputs": [],
   "source": [
    "df3 = df2.copy()"
   ]
  },
  {
   "cell_type": "code",
   "execution_count": null,
   "id": "double-subsection",
   "metadata": {},
   "outputs": [],
   "source": []
  },
  {
   "cell_type": "markdown",
   "id": "norman-price",
   "metadata": {},
   "source": [
    "# 5.0 Data Preparation"
   ]
  },
  {
   "cell_type": "code",
   "execution_count": 67,
   "id": "leading-tongue",
   "metadata": {},
   "outputs": [],
   "source": [
    "df4 = df3.copy()"
   ]
  },
  {
   "cell_type": "code",
   "execution_count": null,
   "id": "collaborative-sport",
   "metadata": {},
   "outputs": [],
   "source": []
  },
  {
   "cell_type": "markdown",
   "id": "metric-literature",
   "metadata": {},
   "source": [
    "# 6.0 Feature Selection"
   ]
  },
  {
   "cell_type": "code",
   "execution_count": 68,
   "id": "departmental-settlement",
   "metadata": {},
   "outputs": [],
   "source": [
    "df5=df4.copy()"
   ]
  },
  {
   "cell_type": "code",
   "execution_count": null,
   "id": "amino-google",
   "metadata": {},
   "outputs": [],
   "source": []
  },
  {
   "cell_type": "markdown",
   "id": "collectible-aspect",
   "metadata": {},
   "source": [
    "# 7.0 Hyperparameter Fine-Tunning"
   ]
  },
  {
   "cell_type": "code",
   "execution_count": 70,
   "id": "lightweight-honor",
   "metadata": {},
   "outputs": [],
   "source": [
    "df6=df5.drop(columns=['customer_id'], axis=1)"
   ]
  },
  {
   "cell_type": "code",
   "execution_count": 71,
   "id": "defined-picnic",
   "metadata": {},
   "outputs": [
    {
     "data": {
      "text/html": [
       "<div>\n",
       "<style scoped>\n",
       "    .dataframe tbody tr th:only-of-type {\n",
       "        vertical-align: middle;\n",
       "    }\n",
       "\n",
       "    .dataframe tbody tr th {\n",
       "        vertical-align: top;\n",
       "    }\n",
       "\n",
       "    .dataframe thead th {\n",
       "        text-align: right;\n",
       "    }\n",
       "</style>\n",
       "<table border=\"1\" class=\"dataframe\">\n",
       "  <thead>\n",
       "    <tr style=\"text-align: right;\">\n",
       "      <th></th>\n",
       "      <th>gross_revenue</th>\n",
       "      <th>recency_days</th>\n",
       "      <th>invoice_no</th>\n",
       "    </tr>\n",
       "  </thead>\n",
       "  <tbody>\n",
       "    <tr>\n",
       "      <th>0</th>\n",
       "      <td>5288.63</td>\n",
       "      <td>302</td>\n",
       "      <td>35</td>\n",
       "    </tr>\n",
       "    <tr>\n",
       "      <th>1</th>\n",
       "      <td>3079.10</td>\n",
       "      <td>31</td>\n",
       "      <td>18</td>\n",
       "    </tr>\n",
       "    <tr>\n",
       "      <th>2</th>\n",
       "      <td>7187.34</td>\n",
       "      <td>2</td>\n",
       "      <td>18</td>\n",
       "    </tr>\n",
       "    <tr>\n",
       "      <th>3</th>\n",
       "      <td>948.25</td>\n",
       "      <td>95</td>\n",
       "      <td>5</td>\n",
       "    </tr>\n",
       "    <tr>\n",
       "      <th>4</th>\n",
       "      <td>635.10</td>\n",
       "      <td>330</td>\n",
       "      <td>6</td>\n",
       "    </tr>\n",
       "  </tbody>\n",
       "</table>\n",
       "</div>"
      ],
      "text/plain": [
       "   gross_revenue  recency_days  invoice_no\n",
       "0        5288.63           302          35\n",
       "1        3079.10            31          18\n",
       "2        7187.34             2          18\n",
       "3         948.25            95           5\n",
       "4         635.10           330           6"
      ]
     },
     "execution_count": 71,
     "metadata": {},
     "output_type": "execute_result"
    }
   ],
   "source": [
    "df6.head()"
   ]
  },
  {
   "cell_type": "markdown",
   "id": "executive-biology",
   "metadata": {},
   "source": [
    "### 7.1 Within-Cluster Sum of Square (WSS)"
   ]
  },
  {
   "cell_type": "code",
   "execution_count": null,
   "id": "classified-conviction",
   "metadata": {},
   "outputs": [],
   "source": []
  },
  {
   "cell_type": "code",
   "execution_count": null,
   "id": "brown-dancing",
   "metadata": {},
   "outputs": [],
   "source": []
  },
  {
   "cell_type": "markdown",
   "id": "subject-night",
   "metadata": {},
   "source": [
    "### 7.2 Sillhoute Score"
   ]
  },
  {
   "cell_type": "code",
   "execution_count": null,
   "id": "abroad-butterfly",
   "metadata": {},
   "outputs": [],
   "source": []
  },
  {
   "cell_type": "code",
   "execution_count": null,
   "id": "greek-connectivity",
   "metadata": {},
   "outputs": [],
   "source": []
  },
  {
   "cell_type": "markdown",
   "id": "initial-stockholm",
   "metadata": {},
   "source": [
    "# 8.0 ModelTraining"
   ]
  },
  {
   "cell_type": "code",
   "execution_count": null,
   "id": "conventional-campaign",
   "metadata": {},
   "outputs": [],
   "source": []
  },
  {
   "cell_type": "code",
   "execution_count": null,
   "id": "complicated-thousand",
   "metadata": {},
   "outputs": [],
   "source": []
  },
  {
   "cell_type": "markdown",
   "id": "finished-found",
   "metadata": {},
   "source": [
    "# 9.0 Cluster Analysis"
   ]
  },
  {
   "cell_type": "code",
   "execution_count": null,
   "id": "helpful-westminster",
   "metadata": {},
   "outputs": [],
   "source": []
  },
  {
   "cell_type": "code",
   "execution_count": null,
   "id": "powerful-arrival",
   "metadata": {},
   "outputs": [],
   "source": []
  },
  {
   "cell_type": "markdown",
   "id": "major-disco",
   "metadata": {},
   "source": [
    "# 10.0 Deploy in production"
   ]
  },
  {
   "cell_type": "code",
   "execution_count": null,
   "id": "persistent-nancy",
   "metadata": {},
   "outputs": [],
   "source": []
  }
 ],
 "metadata": {
  "kernelspec": {
   "display_name": "Python (pa005)",
   "language": "python",
   "name": "pa005venv"
  },
  "language_info": {
   "codemirror_mode": {
    "name": "ipython",
    "version": 3
   },
   "file_extension": ".py",
   "mimetype": "text/x-python",
   "name": "python",
   "nbconvert_exporter": "python",
   "pygments_lexer": "ipython3",
   "version": "3.8.5"
  }
 },
 "nbformat": 4,
 "nbformat_minor": 5
}
