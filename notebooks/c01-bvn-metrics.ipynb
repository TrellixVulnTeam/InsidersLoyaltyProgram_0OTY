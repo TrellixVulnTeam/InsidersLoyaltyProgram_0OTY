{
 "cells": [
  {
   "cell_type": "markdown",
   "id": "floral-stroke",
   "metadata": {},
   "source": [
    "# PA005: High Values Customer Identification (Insiders)"
   ]
  },
  {
   "cell_type": "markdown",
   "id": "sweet-winner",
   "metadata": {
    "ExecuteTime": {
     "end_time": "2021-03-31T00:38:29.041404Z",
     "start_time": "2021-03-31T00:38:29.037973Z"
    }
   },
   "source": [
    "# Imports"
   ]
  },
  {
   "cell_type": "code",
   "execution_count": 2,
   "id": "sound-coalition",
   "metadata": {
    "ExecuteTime": {
     "end_time": "2021-03-31T00:38:30.008696Z",
     "start_time": "2021-03-31T00:38:30.006586Z"
    }
   },
   "outputs": [],
   "source": [
    "import numpy as np\n",
    "import pandas as pd\n",
    "import seaborn as sns\n",
    "\n",
    "import matplotlib.pyplot as plt\n",
    "from IPython.display import HTML\n",
    "\n",
    "from sklearn.cluster import KMeans\n",
    "from sklearn.metrics import silhouette_score\n",
    "from yellowbrick.cluster import KElbowVisualizer"
   ]
  },
  {
   "cell_type": "markdown",
   "id": "spiritual-overall",
   "metadata": {},
   "source": [
    "# Helper Functions"
   ]
  },
  {
   "cell_type": "code",
   "execution_count": null,
   "id": "stable-given",
   "metadata": {},
   "outputs": [],
   "source": []
  },
  {
   "cell_type": "markdown",
   "id": "junior-subcommittee",
   "metadata": {
    "heading_collapsed": "true"
   },
   "source": [
    "## 0.0 Planejamento da Solução  (IOT)"
   ]
  },
  {
   "cell_type": "markdown",
   "id": "descending-virginia",
   "metadata": {
    "heading_collapsed": "true"
   },
   "source": [
    "### Input - Entrada"
   ]
  },
  {
   "cell_type": "markdown",
   "id": "coordinated-concentration",
   "metadata": {},
   "source": [
    "1. Problema de Negócio\n",
    "  - Selecionar os clientes mais valiosos para integrar um programa de Fidelização\n",
    "  \n",
    "\n",
    "2. Conjunto de dados\n",
    "  - Vendas de um  e-commerce online, durante o período de uma ano"
   ]
  },
  {
   "cell_type": "markdown",
   "id": "numeric-powder",
   "metadata": {
    "heading_collapsed": "true"
   },
   "source": [
    "### Output - Saída"
   ]
  },
  {
   "cell_type": "markdown",
   "id": "occupied-radio",
   "metadata": {},
   "source": [
    "1. A indicação das pessoas que farão parte do programa Insiders.\n",
    "  - Lista cliente_id | is_insider|\n",
    "  \n",
    "    \n",
    "2. Relátorio com as respostas das perguntas de negócio.\n",
    "\n",
    "  - Quem são as pessoas elegíveis para participar do programa de Insiders ?\n",
    "  -  Quantos clientes farão parte do grupo?\n",
    "  -  Quais as principais características desses clientes ?\n",
    "  -  Qual a porcentagem de contribuição do faturamento, vinda do Insiders ?\n",
    "  -  Qual a expectativa de faturamento desse grupo para os próximos meses ?\n",
    "  -  Quais as condições para uma pessoa ser elegível ao Insiders ?\n",
    "  -  Quais as condições para uma pessoa ser removida do Insiders ?\n",
    "  -  Qual a garantia que o programa Insiders é melhor que o restante da base ?\n",
    "  -  Quais ações o time de marketing pode realizar para aumentar o faturamento?"
   ]
  },
  {
   "cell_type": "markdown",
   "id": "connected-venture",
   "metadata": {
    "heading_collapsed": "true"
   },
   "source": [
    "### Task - Tarefas"
   ]
  },
  {
   "cell_type": "markdown",
   "id": "distinct-purchase",
   "metadata": {},
   "source": [
    "1. Quem são as pessoas elegíveis para participar do programa de Insiders ?\n",
    "   - O que é ser elegível? O que são cliente de maior \"valor\"?\n",
    "   - Faturamento:\n",
    "     - Alto Ticket Médio.\n",
    "     - Alto LTV.\n",
    "     - Baixo  Recência.\n",
    "     - Alto basket size.\n",
    "     - Baixa probabilidade de Churn.\n",
    "     \n",
    "   - Custo:\n",
    "     - Baixo taxa de devolução.\n",
    "   - Experiência de compra:\n",
    "     - Média alta das avaliação\n",
    "\n",
    "2. Quantos clientes farão parte do grupo?\n",
    "   - Número total de clientes\n",
    "   - % do grupo Insidiers\n",
    "   \n",
    "3. Quais as principais características desses clientes ?\n",
    "   - Escrever caracteristicas do cliente:\n",
    "     - Idade\n",
    "     - Localização\n",
    "     \n",
    "   - Escrever caracteristicas de consumo.\n",
    "     - Atributos da clusterização\n",
    "   \n",
    "   \n",
    "4. Qual a porcentagem de contribuição do faturamento, vinda do Insiders ?\n",
    "    - Faturamento total ao ano\n",
    "    - Faturamento do grupo Insiders\n",
    "\n",
    "5. Qual a expectativa de faturamento desse grupo para os próximos meses ?\n",
    "    - LTV do grupo Insiders\n",
    "    - Análise de Cohort\n",
    "    \n",
    "6. Quais as condições para uma pessoa ser elegível ao Insiders ?\n",
    "    - A pessoa precisa ser similar com uma pessoa do grupo.\n",
    "    - Definir a periodicidade (1 mes, 3 meses)\n",
    "\n",
    "7. Quais as condições para uma pessoa ser removida do Insiders ?\n",
    "    - A pessoa precisa ser não-similar com uma pessoa do grupo.\n",
    "    - Definir a periodicidade (1 mes, 3 meses)\n",
    "\n",
    "8. Qual a garantia que o programa Insiders é melhor que o restante da base ?\n",
    "   - Teste A/B\n",
    "   - Teste A/B Bayesiano\n",
    "   - Teste de hipótese\n",
    "\n",
    "9. Quais ações o time de marketing pode realizar para aumentar o faturamento?\n",
    "   - Desconto\n",
    "   - Frete\n",
    "   - Preferência de compra"
   ]
  },
  {
   "cell_type": "markdown",
   "id": "caring-morocco",
   "metadata": {
    "heading_collapsed": "true"
   },
   "source": [
    "## 0.1 Benchmark de Soluções"
   ]
  },
  {
   "cell_type": "markdown",
   "id": "ranging-protest",
   "metadata": {
    "heading_collapsed": "true"
   },
   "source": [
    "### Desk Research"
   ]
  },
  {
   "cell_type": "markdown",
   "id": "regional-secret",
   "metadata": {},
   "source": [
    "- RFM Model - Recency, Frequency and Monetary por id\n",
    " - Passo 01:\n",
    "\n",
    " Ordenar os clientes por Recency\n",
    "\n",
    " - Passo2:\n",
    "\n",
    " a. Dividir a base de clientes de acordo com as notas\n",
    "\n",
    "    i. notas de 1-5.\n",
    "\n",
    "    ii. 5 grupos de 20% cada.\n",
    "\n",
    " - Passo3:\n",
    "\n",
    " Repetir os Passos1 e 2 para Frequency e Monetary\n",
    "\n",
    " - Passo4:\n",
    "\n",
    " RFM Score - Média das notas.\n",
    " Grafico Frequency Score vs Recency Score - Mapeamento dos segmentos de clientes"
   ]
  },
  {
   "cell_type": "markdown",
   "id": "corresponding-harmony",
   "metadata": {},
   "source": [
    "## 0.2 Load Dataset"
   ]
  },
  {
   "cell_type": "code",
   "execution_count": 3,
   "id": "acceptable-cartridge",
   "metadata": {},
   "outputs": [],
   "source": [
    "df_raw = pd.read_csv('../data/raw/Ecommerce.csv')\n",
    "df_raw.drop('Unnamed: 8', inplace=True, axis=1)"
   ]
  },
  {
   "cell_type": "code",
   "execution_count": 4,
   "id": "revised-characteristic",
   "metadata": {},
   "outputs": [
    {
     "data": {
      "text/html": [
       "<div>\n",
       "<style scoped>\n",
       "    .dataframe tbody tr th:only-of-type {\n",
       "        vertical-align: middle;\n",
       "    }\n",
       "\n",
       "    .dataframe tbody tr th {\n",
       "        vertical-align: top;\n",
       "    }\n",
       "\n",
       "    .dataframe thead th {\n",
       "        text-align: right;\n",
       "    }\n",
       "</style>\n",
       "<table border=\"1\" class=\"dataframe\">\n",
       "  <thead>\n",
       "    <tr style=\"text-align: right;\">\n",
       "      <th></th>\n",
       "      <th>InvoiceNo</th>\n",
       "      <th>StockCode</th>\n",
       "      <th>Description</th>\n",
       "      <th>Quantity</th>\n",
       "      <th>InvoiceDate</th>\n",
       "      <th>UnitPrice</th>\n",
       "      <th>CustomerID</th>\n",
       "      <th>Country</th>\n",
       "    </tr>\n",
       "  </thead>\n",
       "  <tbody>\n",
       "    <tr>\n",
       "      <th>0</th>\n",
       "      <td>536365</td>\n",
       "      <td>85123A</td>\n",
       "      <td>WHITE HANGING HEART T-LIGHT HOLDER</td>\n",
       "      <td>6</td>\n",
       "      <td>29-Nov-16</td>\n",
       "      <td>2.55</td>\n",
       "      <td>17850.0</td>\n",
       "      <td>United Kingdom</td>\n",
       "    </tr>\n",
       "    <tr>\n",
       "      <th>1</th>\n",
       "      <td>536365</td>\n",
       "      <td>71053</td>\n",
       "      <td>WHITE METAL LANTERN</td>\n",
       "      <td>6</td>\n",
       "      <td>29-Nov-16</td>\n",
       "      <td>3.39</td>\n",
       "      <td>17850.0</td>\n",
       "      <td>United Kingdom</td>\n",
       "    </tr>\n",
       "    <tr>\n",
       "      <th>2</th>\n",
       "      <td>536365</td>\n",
       "      <td>84406B</td>\n",
       "      <td>CREAM CUPID HEARTS COAT HANGER</td>\n",
       "      <td>8</td>\n",
       "      <td>29-Nov-16</td>\n",
       "      <td>2.75</td>\n",
       "      <td>17850.0</td>\n",
       "      <td>United Kingdom</td>\n",
       "    </tr>\n",
       "    <tr>\n",
       "      <th>3</th>\n",
       "      <td>536365</td>\n",
       "      <td>84029G</td>\n",
       "      <td>KNITTED UNION FLAG HOT WATER BOTTLE</td>\n",
       "      <td>6</td>\n",
       "      <td>29-Nov-16</td>\n",
       "      <td>3.39</td>\n",
       "      <td>17850.0</td>\n",
       "      <td>United Kingdom</td>\n",
       "    </tr>\n",
       "    <tr>\n",
       "      <th>4</th>\n",
       "      <td>536365</td>\n",
       "      <td>84029E</td>\n",
       "      <td>RED WOOLLY HOTTIE WHITE HEART.</td>\n",
       "      <td>6</td>\n",
       "      <td>29-Nov-16</td>\n",
       "      <td>3.39</td>\n",
       "      <td>17850.0</td>\n",
       "      <td>United Kingdom</td>\n",
       "    </tr>\n",
       "  </tbody>\n",
       "</table>\n",
       "</div>"
      ],
      "text/plain": [
       "  InvoiceNo StockCode                          Description  Quantity  \\\n",
       "0    536365    85123A   WHITE HANGING HEART T-LIGHT HOLDER         6   \n",
       "1    536365     71053                  WHITE METAL LANTERN         6   \n",
       "2    536365    84406B       CREAM CUPID HEARTS COAT HANGER         8   \n",
       "3    536365    84029G  KNITTED UNION FLAG HOT WATER BOTTLE         6   \n",
       "4    536365    84029E       RED WOOLLY HOTTIE WHITE HEART.         6   \n",
       "\n",
       "  InvoiceDate  UnitPrice  CustomerID         Country  \n",
       "0   29-Nov-16       2.55     17850.0  United Kingdom  \n",
       "1   29-Nov-16       3.39     17850.0  United Kingdom  \n",
       "2   29-Nov-16       2.75     17850.0  United Kingdom  \n",
       "3   29-Nov-16       3.39     17850.0  United Kingdom  \n",
       "4   29-Nov-16       3.39     17850.0  United Kingdom  "
      ]
     },
     "execution_count": 4,
     "metadata": {},
     "output_type": "execute_result"
    }
   ],
   "source": [
    "df_raw.head()"
   ]
  },
  {
   "cell_type": "markdown",
   "id": "atmospheric-gossip",
   "metadata": {},
   "source": [
    "# 1.0 Descrição dos Dados"
   ]
  },
  {
   "cell_type": "markdown",
   "id": "suited-reliance",
   "metadata": {},
   "source": [
    "## 1.1 Rename Columns"
   ]
  },
  {
   "cell_type": "code",
   "execution_count": 5,
   "id": "ultimate-accreditation",
   "metadata": {},
   "outputs": [
    {
     "data": {
      "text/plain": [
       "Index(['InvoiceNo', 'StockCode', 'Description', 'Quantity', 'InvoiceDate',\n",
       "       'UnitPrice', 'CustomerID', 'Country'],\n",
       "      dtype='object')"
      ]
     },
     "execution_count": 5,
     "metadata": {},
     "output_type": "execute_result"
    }
   ],
   "source": [
    "df_raw.columns"
   ]
  },
  {
   "cell_type": "code",
   "execution_count": 6,
   "id": "laughing-verse",
   "metadata": {},
   "outputs": [],
   "source": [
    "cols_new = ['invoice_no', 'stock_code', 'descriiption', 'quantity', 'invoice_date', 'unit_price', 'customer_id', 'country']\n",
    "df_raw.columns = cols_new"
   ]
  },
  {
   "cell_type": "code",
   "execution_count": 7,
   "id": "political-applicant",
   "metadata": {},
   "outputs": [
    {
     "data": {
      "text/html": [
       "<div>\n",
       "<style scoped>\n",
       "    .dataframe tbody tr th:only-of-type {\n",
       "        vertical-align: middle;\n",
       "    }\n",
       "\n",
       "    .dataframe tbody tr th {\n",
       "        vertical-align: top;\n",
       "    }\n",
       "\n",
       "    .dataframe thead th {\n",
       "        text-align: right;\n",
       "    }\n",
       "</style>\n",
       "<table border=\"1\" class=\"dataframe\">\n",
       "  <thead>\n",
       "    <tr style=\"text-align: right;\">\n",
       "      <th></th>\n",
       "      <th>invoice_no</th>\n",
       "      <th>stock_code</th>\n",
       "      <th>descriiption</th>\n",
       "      <th>quantity</th>\n",
       "      <th>invoice_date</th>\n",
       "      <th>unit_price</th>\n",
       "      <th>customer_id</th>\n",
       "      <th>country</th>\n",
       "    </tr>\n",
       "  </thead>\n",
       "  <tbody>\n",
       "    <tr>\n",
       "      <th>57413</th>\n",
       "      <td>541206</td>\n",
       "      <td>21509</td>\n",
       "      <td>COWBOYS AND INDIANS BIRTHDAY CARD</td>\n",
       "      <td>72</td>\n",
       "      <td>12-Jan-17</td>\n",
       "      <td>0.36</td>\n",
       "      <td>14646.0</td>\n",
       "      <td>Netherlands</td>\n",
       "    </tr>\n",
       "  </tbody>\n",
       "</table>\n",
       "</div>"
      ],
      "text/plain": [
       "      invoice_no stock_code                        descriiption  quantity  \\\n",
       "57413     541206      21509  COWBOYS AND INDIANS BIRTHDAY CARD         72   \n",
       "\n",
       "      invoice_date  unit_price  customer_id      country  \n",
       "57413    12-Jan-17        0.36      14646.0  Netherlands  "
      ]
     },
     "execution_count": 7,
     "metadata": {},
     "output_type": "execute_result"
    }
   ],
   "source": [
    "df_raw.sample()"
   ]
  },
  {
   "cell_type": "markdown",
   "id": "taken-trade",
   "metadata": {},
   "source": [
    "## 1.2 General Describe"
   ]
  },
  {
   "cell_type": "code",
   "execution_count": null,
   "id": "differential-yahoo",
   "metadata": {},
   "outputs": [],
   "source": [
    "%%time\n",
    "# General describer\n",
    "pd.DataFrame({'dtypes': df_raw.dtypes,\n",
    "              'missing': df_raw.isna().mean(),\n",
    "              'uniques': df_raw.nunique(),\n",
    "              'min': df_raw.min(),\n",
    "              'max': df_raw.max(),\n",
    "              'mean':df_raw.mean() ,\n",
    "              'median':df_raw.median() ,\n",
    "              'skew': df_raw.skew() ,\n",
    "              'kurt': df_raw.kurt()})"
   ]
  },
  {
   "cell_type": "markdown",
   "id": "sorted-calgary",
   "metadata": {},
   "source": [
    "### 1.2.1 Data Dimensions"
   ]
  },
  {
   "cell_type": "code",
   "execution_count": null,
   "id": "adjacent-roads",
   "metadata": {},
   "outputs": [],
   "source": [
    "# Original data dimensions\n",
    "df_raw.shape"
   ]
  },
  {
   "cell_type": "markdown",
   "id": "varying-management",
   "metadata": {},
   "source": [
    "## 1.3 Missing Values"
   ]
  },
  {
   "cell_type": "markdown",
   "id": "drawn-profession",
   "metadata": {},
   "source": [
    "### 1.3.1 Replace NAs"
   ]
  },
  {
   "cell_type": "code",
   "execution_count": null,
   "id": "sharp-messenger",
   "metadata": {},
   "outputs": [],
   "source": [
    "# Just Droping the NAs for now\n",
    "df_raw = df_raw.dropna(subset = ['descriiption','customer_id'])\n",
    "df_raw.isna().mean()"
   ]
  },
  {
   "cell_type": "code",
   "execution_count": 11,
   "id": "endless-coupon",
   "metadata": {},
   "outputs": [
    {
     "data": {
      "text/plain": [
       "(406829, 8)"
      ]
     },
     "execution_count": 11,
     "metadata": {},
     "output_type": "execute_result"
    }
   ],
   "source": [
    "# New dimensions\n",
    "df_raw.shape"
   ]
  },
  {
   "cell_type": "markdown",
   "id": "equal-respect",
   "metadata": {},
   "source": [
    "## 1.4 Change dtypes"
   ]
  },
  {
   "cell_type": "code",
   "execution_count": null,
   "id": "hispanic-handy",
   "metadata": {},
   "outputs": [],
   "source": [
    "# invoice_data\n",
    "df_raw['invoice_date'] = pd.to_datetime(df_raw['invoice_date'], format= '%d-%b-%y')\n",
    "\n",
    "\n",
    "#customer_id\n",
    "df_raw['customer_id'] = df_raw['customer_id'].astype(int)\n",
    "df_raw.head()"
   ]
  },
  {
   "cell_type": "code",
   "execution_count": null,
   "id": "hispanic-spain",
   "metadata": {},
   "outputs": [],
   "source": [
    "df_raw.dtypes"
   ]
  },
  {
   "cell_type": "markdown",
   "id": "intellectual-course",
   "metadata": {},
   "source": [
    "# 2.0 Feature Engineering"
   ]
  },
  {
   "cell_type": "code",
   "execution_count": null,
   "id": "informal-repository",
   "metadata": {},
   "outputs": [],
   "source": [
    "df1 = df_raw.copy()"
   ]
  },
  {
   "cell_type": "markdown",
   "id": "mathematical-vision",
   "metadata": {},
   "source": [
    "### 2.1 Feature Creation"
   ]
  },
  {
   "cell_type": "code",
   "execution_count": null,
   "id": "sought-peripheral",
   "metadata": {},
   "outputs": [],
   "source": [
    "# data reference \n",
    "df_ref = df1.drop(['invoice_no', \n",
    "                   'stock_code', \n",
    "                   'descriiption', \n",
    "                   'quantity', \n",
    "                   'invoice_date', \n",
    "                   'unit_price', \n",
    "                   'country'], axis=1).drop_duplicates(ignore_index=True)\n",
    "df_ref.head()"
   ]
  },
  {
   "cell_type": "code",
   "execution_count": null,
   "id": "gothic-isolation",
   "metadata": {},
   "outputs": [],
   "source": [
    "# Gross Revenue (Faturamento) quantity * price\n",
    "df1['gross_revenue'] = df1['quantity'] * df1['unit_price']\n",
    "\n",
    "# Monetary\n",
    "df_monetary = df1[['customer_id','gross_revenue']].groupby('customer_id').sum().reset_index()\n",
    "df_ref = df_ref.merge(df_monetary, on=\"customer_id\", how=\"left\")\n",
    "\n",
    "# Recency - Last day purchase\n",
    "df_recency = df1[['customer_id','invoice_date']].groupby('customer_id').max().reset_index()\n",
    "df_recency['recency_days'] = (df1['invoice_date'].max() - df_recency['invoice_date']).dt.days\n",
    "df_recency = df_recency[['customer_id','recency_days']]\n",
    "df_ref = df_ref.merge(df_recency, on='customer_id', how='left')\n",
    "\n",
    "# Frequency\n",
    "df_freq = df1[['customer_id','invoice_no']].drop_duplicates().groupby('customer_id').count().reset_index()\n",
    "df_ref = df_ref.merge(df_freq, on='customer_id', how='left')"
   ]
  },
  {
   "cell_type": "code",
   "execution_count": null,
   "id": "gorgeous-editor",
   "metadata": {},
   "outputs": [],
   "source": [
    "df_ref.isna().mean()"
   ]
  },
  {
   "cell_type": "markdown",
   "id": "altered-investigation",
   "metadata": {
    "heading_collapsed": "true"
   },
   "source": [
    "# 3.0 Filtragem de Variáveis"
   ]
  },
  {
   "cell_type": "code",
   "execution_count": 18,
   "id": "afraid-respect",
   "metadata": {},
   "outputs": [],
   "source": [
    "df2 = df_ref.copy()"
   ]
  },
  {
   "cell_type": "code",
   "execution_count": null,
   "id": "educational-bookmark",
   "metadata": {},
   "outputs": [],
   "source": []
  },
  {
   "cell_type": "code",
   "execution_count": null,
   "id": "blond-effort",
   "metadata": {},
   "outputs": [],
   "source": []
  },
  {
   "cell_type": "code",
   "execution_count": null,
   "id": "dangerous-beatles",
   "metadata": {},
   "outputs": [],
   "source": []
  },
  {
   "cell_type": "markdown",
   "id": "forty-equilibrium",
   "metadata": {
    "heading_collapsed": "true"
   },
   "source": [
    "# 4.0 EDA "
   ]
  },
  {
   "cell_type": "code",
   "execution_count": 19,
   "id": "infinite-newcastle",
   "metadata": {},
   "outputs": [],
   "source": [
    "df3 = df2.copy()"
   ]
  },
  {
   "cell_type": "code",
   "execution_count": null,
   "id": "literary-reduction",
   "metadata": {},
   "outputs": [],
   "source": []
  },
  {
   "cell_type": "markdown",
   "id": "indonesian-interest",
   "metadata": {
    "heading_collapsed": "true"
   },
   "source": [
    "# 5.0 Data Preparation"
   ]
  },
  {
   "cell_type": "code",
   "execution_count": 20,
   "id": "second-denial",
   "metadata": {},
   "outputs": [],
   "source": [
    "df4 = df3.copy()"
   ]
  },
  {
   "cell_type": "code",
   "execution_count": null,
   "id": "governmental-management",
   "metadata": {},
   "outputs": [],
   "source": []
  },
  {
   "cell_type": "markdown",
   "id": "educated-oliver",
   "metadata": {
    "heading_collapsed": "true"
   },
   "source": [
    "# 6.0 Feature Selection"
   ]
  },
  {
   "cell_type": "code",
   "execution_count": 21,
   "id": "sonic-artist",
   "metadata": {},
   "outputs": [],
   "source": [
    "df5=df4.copy()"
   ]
  },
  {
   "cell_type": "code",
   "execution_count": null,
   "id": "affected-cornwall",
   "metadata": {},
   "outputs": [],
   "source": []
  },
  {
   "cell_type": "markdown",
   "id": "hungry-future",
   "metadata": {},
   "source": [
    "# 7.0 Hyperparameter Fine-Tunning"
   ]
  },
  {
   "cell_type": "code",
   "execution_count": null,
   "id": "surrounded-manor",
   "metadata": {},
   "outputs": [],
   "source": [
    "df6=df5.drop(columns=['customer_id'], axis=1)"
   ]
  },
  {
   "cell_type": "code",
   "execution_count": null,
   "id": "silver-hygiene",
   "metadata": {},
   "outputs": [],
   "source": [
    "clusters = [2, 3, 4, 5, 6]"
   ]
  },
  {
   "cell_type": "markdown",
   "id": "sustainable-penny",
   "metadata": {},
   "source": [
    "### 7.1 Within-Cluster Sum of Square (WSS)"
   ]
  },
  {
   "cell_type": "code",
   "execution_count": null,
   "id": "insured-reserve",
   "metadata": {},
   "outputs": [],
   "source": [
    "# Roots\n",
    "wss = []\n",
    "for k in clusters:\n",
    "    # model definition\n",
    "    kmeans = KMeans(init='random', n_clusters=k, n_init=10, max_iter=300, random_state=42)\n",
    "    \n",
    "    # model training\n",
    "    kmeans.fit(df6)\n",
    "    \n",
    "    # validation\n",
    "    wss.append(kmeans.inertia_)\n",
    "    \n",
    "# plot wss - elbow method\n",
    "plt.plot(clusters, wss, linestyle='--', marker='o', color='b' )\n",
    "plt.xlabel('K')\n",
    "plt.ylabel('WSS')\n",
    "plt.title('K vs WSS');"
   ]
  },
  {
   "cell_type": "code",
   "execution_count": null,
   "id": "measured-jenny",
   "metadata": {},
   "outputs": [],
   "source": [
    "# Nuttela\n",
    "kmeans = KElbowVisualizer( KMeans(), k=clusters, timings=False )\n",
    "kmeans.fit(df6)\n",
    "kmeans.show()"
   ]
  },
  {
   "cell_type": "markdown",
   "id": "stable-peripheral",
   "metadata": {},
   "source": [
    "### 7.2 Sillhoute Score"
   ]
  },
  {
   "cell_type": "code",
   "execution_count": null,
   "id": "exciting-input",
   "metadata": {},
   "outputs": [],
   "source": [
    "# Nuttela\n",
    "kmeans = KElbowVisualizer( KMeans(), k=clusters,metric='silhouette', timings=False )\n",
    "kmeans.fit(df6)\n",
    "kmeans.show()"
   ]
  },
  {
   "cell_type": "markdown",
   "id": "southeast-tsunami",
   "metadata": {},
   "source": [
    "# 8.0 ModelTraining"
   ]
  },
  {
   "cell_type": "markdown",
   "id": "ordinary-cause",
   "metadata": {},
   "source": [
    "## Kmeans"
   ]
  },
  {
   "cell_type": "code",
   "execution_count": null,
   "id": "tropical-leadership",
   "metadata": {},
   "outputs": [],
   "source": [
    "#model definition\n",
    "k=3\n",
    "kmeans = KMeans(init='random', n_clusters=k, n_init=10, max_iter=300, random_state=42)\n",
    "\n",
    "#model training\n",
    "kmeans.fit(df6)\n",
    "\n",
    "#model clustering\n",
    "labels = kmeans.labels_"
   ]
  },
  {
   "cell_type": "markdown",
   "id": "drawn-mixture",
   "metadata": {},
   "source": [
    "## Cluster Validation"
   ]
  },
  {
   "cell_type": "markdown",
   "id": "combined-scroll",
   "metadata": {},
   "source": [
    "### wss (Within-cluster sum of squares)"
   ]
  },
  {
   "cell_type": "code",
   "execution_count": null,
   "id": "romantic-associate",
   "metadata": {},
   "outputs": [],
   "source": [
    "print( f'WWS Value: {kmeans.inertia_}')"
   ]
  },
  {
   "cell_type": "markdown",
   "id": "reserved-institute",
   "metadata": {},
   "source": [
    "### SS (Silhoute Score)"
   ]
  },
  {
   "cell_type": "code",
   "execution_count": null,
   "id": "miniature-section",
   "metadata": {},
   "outputs": [],
   "source": [
    "score = silhouette_score(df6, labels, metric='euclidean')\n",
    "print(f'SS Value: {score}')"
   ]
  },
  {
   "cell_type": "markdown",
   "id": "million-realtor",
   "metadata": {},
   "source": [
    "# 9.0 Cluster Analysis"
   ]
  },
  {
   "cell_type": "code",
   "execution_count": null,
   "id": "crude-privilege",
   "metadata": {},
   "outputs": [],
   "source": [
    "df9 = df5.copy()\n",
    "df9['cluster'] = labels\n",
    "df9.head()"
   ]
  },
  {
   "cell_type": "markdown",
   "id": "identical-angel",
   "metadata": {},
   "source": [
    "## Visualization Inspection"
   ]
  },
  {
   "cell_type": "code",
   "execution_count": null,
   "id": "incorporate-chess",
   "metadata": {},
   "outputs": [],
   "source": [
    "from plotly import express as px\n",
    "fig  = px.scatter_3d(df9, x='recency_days', y='invoice_no', z='gross_revenue', color='cluster')\n",
    "fig.show()"
   ]
  },
  {
   "cell_type": "markdown",
   "id": "brave-bunny",
   "metadata": {},
   "source": [
    "## Cluster Profile"
   ]
  },
  {
   "cell_type": "code",
   "execution_count": null,
   "id": "spatial-graph",
   "metadata": {},
   "outputs": [],
   "source": [
    "# Number of customers\n",
    "df_cluster = df9[['customer_id','cluster']].groupby('cluster').count().reset_index()\n",
    "df_cluster['perc_customer'] = 100*(df_cluster['customer_id']/df_cluster['customer_id'].sum())\n",
    "\n",
    "# Avg Gross revenue\n",
    "df_avg_gross_revenue = df9[['gross_revenue','cluster']].groupby('cluster').mean().reset_index()\n",
    "df_cluster = pd.merge(df_cluster, df_avg_gross_revenue, how='inner', on='cluster')\n",
    "\n",
    "# Avg rececy days\n",
    "df_avg_recency_days = df9[['recency_days','cluster']].groupby('cluster').mean().reset_index()\n",
    "df_cluster = pd.merge(df_cluster, df_avg_recency_days, how='inner', on='cluster')\n",
    "\n",
    "# Avg invoice_no\n",
    "df_avg_invoice_no = df9[['invoice_no','cluster']].groupby('cluster').mean().reset_index()\n",
    "df_cluster = pd.merge(df_cluster, df_avg_invoice_no, how='inner', on='cluster')\n",
    "\n",
    "# Report\n",
    "df_cluster"
   ]
  },
  {
   "cell_type": "markdown",
   "id": "right-dutch",
   "metadata": {},
   "source": [
    "**Cluster 01: (Candidatos a Insider)**\n",
    "\n",
    "   - Número de customers: 6 (0,14% do customers)\n",
    "   - Recência em média: 7 dias\n",
    "   - Compras em média: 89 compras\n",
    "   - Receita em média: $182.182,00 dólares\n",
    "    \n",
    "**Cluster 02:**\n",
    "\n",
    "   - Números de customers: 31 (0,71% dos customers)\n",
    "   - Recência em média: 14 dias\n",
    "   - Compras em média: 53 compras\n",
    "   - Receita em média: $40.543,52 dólares\n",
    "   \n",
    "**Cluster 03:**\n",
    "\n",
    "   - Número de customers: 4.335 (99% do customers)\n",
    "   - Recência em média: 92 dias\n",
    "   - Compras em médias: 5 compras\n",
    "   - Receita em média: $1.372,57 dólares"
   ]
  },
  {
   "cell_type": "markdown",
   "id": "occupied-modern",
   "metadata": {},
   "source": [
    "# 10.0 Deploy in production"
   ]
  },
  {
   "cell_type": "code",
   "execution_count": null,
   "id": "functioning-brighton",
   "metadata": {},
   "outputs": [],
   "source": []
  }
 ],
 "metadata": {
  "kernelspec": {
   "display_name": "Python (pa005)",
   "language": "python",
   "name": "pa005venv"
  },
  "language_info": {
   "codemirror_mode": {
    "name": "ipython",
    "version": 3
   },
   "file_extension": ".py",
   "mimetype": "text/x-python",
   "name": "python",
   "nbconvert_exporter": "python",
   "pygments_lexer": "ipython3",
   "version": "3.8.5"
  }
 },
 "nbformat": 4,
 "nbformat_minor": 5
}
